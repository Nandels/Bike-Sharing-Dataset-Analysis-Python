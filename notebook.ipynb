{
 "cells": [
  {
   "cell_type": "markdown",
   "metadata": {
    "id": "H9wADwK78DCz"
   },
   "source": [
    "# Proyek Analisis Data: Bike Sharing Dataset\n",
    "- **Nama:** Beryl Cholif Arrahman Meuraxa\n",
    "- **Email:** berylmeuraxa@gmail.com\n",
    "- **ID Dicoding:** berylmeuraxa"
   ]
  },
  {
   "cell_type": "markdown",
   "metadata": {
    "id": "eE0raob58DC0"
   },
   "source": [
    "## Menentukan Pertanyaan Bisnis"
   ]
  },
  {
   "cell_type": "markdown",
   "metadata": {
    "id": "GmQeQ5YF8DC0"
   },
   "source": [
    "- Pertanyaan 1: Bagaimana tren dalam penggunaan rental sepeda?\n",
    "- Pertanyaan 2: Apakah ada perbedaan antara hari kerja dan akhir pekan?\n",
    "- Pertanyaan 3: Bagaimana cuaca memengaruhi jumlah penyewaan sepeda?\n",
    "- Pertanyaan 4: Berapa persentase kontribusi pengguna kasual dibandingkan dengan pengguna terdaftar?"
   ]
  },
  {
   "cell_type": "markdown",
   "metadata": {
    "id": "H-z4QGlO8DC1"
   },
   "source": [
    "## Import Semua Packages/Library yang Digunakan"
   ]
  },
  {
   "cell_type": "code",
   "execution_count": null,
   "metadata": {
    "id": "FVYwaObI8DC1"
   },
   "outputs": [],
   "source": [
    "#Import library yang dibutuhkan untuk analisis\n",
    "import pandas as pd\n",
    "import numpy as np\n",
    "import matplotlib.pylab as plt\n",
    "import seaborn as sns"
   ]
  },
  {
   "cell_type": "markdown",
   "metadata": {
    "id": "h_Sh51Xy8DC1"
   },
   "source": [
    "## Data Wrangling"
   ]
  },
  {
   "cell_type": "markdown",
   "metadata": {
    "id": "sXU2GBYu8DC1"
   },
   "source": [
    "### Gathering Data"
   ]
  },
  {
   "cell_type": "code",
   "execution_count": null,
   "metadata": {
    "id": "zjCBk1BI8DC1"
   },
   "outputs": [],
   "source": [
    "#Memuat Tabel hour dan menampilkan 5 baris pertama\n",
    "day_df = pd.read_csv(\"data/day.csv\")\n",
    "day_df.head()"
   ]
  },
  {
   "cell_type": "code",
   "execution_count": null,
   "metadata": {},
   "outputs": [],
   "source": [
    "# Informasi dasar tentang dataset\n",
    "print(f\"Jumlah baris: {day_df.shape[0]}, Jumlah kolom: {day_df.shape[1]}\")"
   ]
  },
  {
   "cell_type": "markdown",
   "metadata": {
    "id": "FHSiqaZp8DC1"
   },
   "source": [
    "### Assessing Data"
   ]
  },
  {
   "cell_type": "code",
   "execution_count": null,
   "metadata": {},
   "outputs": [],
   "source": [
    "#Memeriksa missing value pada tabel day\n",
    "day_df.isna().sum()"
   ]
  },
  {
   "cell_type": "code",
   "execution_count": null,
   "metadata": {},
   "outputs": [],
   "source": [
    "#Memeriksa duplikasi data pada tabel day\n",
    "print(\"Jumlah duplikasi: \", day_df.duplicated().sum())"
   ]
  },
  {
   "cell_type": "code",
   "execution_count": null,
   "metadata": {},
   "outputs": [],
   "source": [
    "#Memeriksa innaccurate value pada tabel day\n",
    "day_df.describe()"
   ]
  },
  {
   "cell_type": "code",
   "execution_count": null,
   "metadata": {},
   "outputs": [],
   "source": [
    "#Menampilkan nilai unik dari kolom untuk memastikan tidak adanya invalid value atau outlier\n",
    "print(day_df['season'].unique())\n",
    "print(day_df['yr'].unique())\n",
    "print(day_df['mnth'].unique())\n",
    "print(day_df['holiday'].unique())\n",
    "print(day_df['weekday'].unique())\n",
    "print(day_df['workingday'].unique())\n",
    "print(day_df['weathersit'].unique())"
   ]
  },
  {
   "cell_type": "code",
   "execution_count": null,
   "metadata": {},
   "outputs": [],
   "source": [
    "# Cari baris dengan workingday=1 dan holiday=1\n",
    "inconsistent_days = day_df[(day_df['workingday'] == 1) & (day_df['holiday'] == 1)]\n",
    "\n",
    "# Tampilkan hasil\n",
    "if inconsistent_days.empty:\n",
    "    print(\"Tidak ada inkonsistensi logis antara workingday dan holiday.\")\n",
    "else:\n",
    "    print(\"Inkonsistensi ditemukan:\")\n",
    "    print(inconsistent_days)"
   ]
  },
  {
   "cell_type": "code",
   "execution_count": null,
   "metadata": {
    "id": "ax-3tEjc9Cj1"
   },
   "outputs": [],
   "source": [
    "#Memeriksa tipe data pada tabel day\n",
    "day_df.info()"
   ]
  },
  {
   "cell_type": "markdown",
   "metadata": {
    "id": "7dtxhAPrkhPL"
   },
   "source": [
    "**Assessing Data Summary:**\n",
    "\n",
    "tabel **day**:\n",
    "- *Missing Value* = Tidak terdapat missing value\n",
    "- *Duplicate Data* = Tidak terdapat duplikasi data\n",
    "- *Innaccurate Value* = Tidak terdapat innaccurate value\n",
    "- *Tipe Data* = Terdapat tipe data tidak sesuai pada kolom dteday"
   ]
  },
  {
   "cell_type": "markdown",
   "metadata": {
    "id": "EhN5R4hr8DC1"
   },
   "source": [
    "### Cleaning Data"
   ]
  },
  {
   "cell_type": "code",
   "execution_count": null,
   "metadata": {
    "id": "jVnYpprE9Evz"
   },
   "outputs": [],
   "source": [
    "#Mengkonversi tipe data menjadi datetime\n",
    "day_df['dteday'] = pd.to_datetime(day_df['dteday'])"
   ]
  },
  {
   "cell_type": "code",
   "execution_count": null,
   "metadata": {},
   "outputs": [],
   "source": [
    "#Menampilkan informasi data\n",
    "day_df.info()"
   ]
  },
  {
   "cell_type": "markdown",
   "metadata": {
    "id": "Q_5ejIqckiSP"
   },
   "source": [
    "**Cleaning Data Summary:**\n",
    "\n",
    "- Mengkonversi tipe data kolom dteday menjadi datetime."
   ]
  },
  {
   "cell_type": "markdown",
   "metadata": {
    "id": "gp-Y6wU38DC1"
   },
   "source": [
    "## Exploratory Data Analysis (EDA)"
   ]
  },
  {
   "cell_type": "markdown",
   "metadata": {},
   "source": [
    "## Eksplorasi Data"
   ]
  },
  {
   "cell_type": "code",
   "execution_count": null,
   "metadata": {},
   "outputs": [],
   "source": [
    "#Menampilkan ringkasan statistik deskriptif untuk semua kolom dalam dataset\n",
    "day_df.describe(include=\"all\")"
   ]
  },
  {
   "cell_type": "markdown",
   "metadata": {},
   "source": [
    "**Insight:**\n",
    "\n",
    "Dataset memiliki total seluruh record sebanyak 731,\n",
    "\n",
    "Berdasarkan rangkuman paramater statistik diatas kita memperoleh informasi dataset berupa:\n",
    "\n",
    "1. season (1: spring, 2: summer, 3: fall, 4: winter)\n",
    "- memiliki nilai *mean* 2.496 menunjukkan rata-rata rental sepeda pada musim semi atau panas lebih dominan dibanding musim lainnya.\n",
    "2. yr (0: 2011, 1:2012)\n",
    "- memiliki nilai *mean* 0.500 yang dimana menunjukkan rata-rata distribusi tahun dataset yang seimbang antara 2011-2012\n",
    "3. holiday (0: Tidak Libur, 1: Libur)\n",
    "- memiliki nilai *mean* dengan nilai 0.0287 yang menunjukkan rata-rata hari yang tidak libur lebih dominan dibanding hari libur.\n",
    "4. weekday (0: Minggu, 1: Senin, 2: Selasa, 3: Rabu, 4: Kamis, 5: Jumat, 6: Sabtu)\n",
    "- memiliki nilai *mean* dengan nilai 2.997 yang menunjukkan hari rabu lebih dominan untuk merental sepeda dibanding hari lainnya.\n",
    "5. workingday (0: No, 1: Yes)\n",
    "- memiliki nilai *mean* dengan nilai 0.6839 yang menunjukkan distribusi rental sepeda pada hari kerja dan hari tidak bekerja seimbang namun sedikit condong dominan ke arah hari kerja.\n",
    "6. weathersit (1: Cerah, sedikit awan. 2: Berkabut, berawan. 3: Hujan/salju ringan. 4: Cuaca buruk)\n",
    "- terlihat nilai *meannya* 1.395 yang menunjukkan rata-rata sebagian besar cuaca cerah atau berkabut/berawan.\n",
    "7. casual, registered, cnt\n",
    "- terlihat nilai *mean* *casual* sebanyak 848.17 dan *registered* sebanyak 3656.17 yang dimana temuan ini menunjukkan, rata-rata pengguna yang banyak melakukan rental adalah *pengguna terdaftar (registered)*\n"
   ]
  },
  {
   "cell_type": "markdown",
   "metadata": {},
   "source": [
    "## Hubungan antara Bulan dan Musim"
   ]
  },
  {
   "cell_type": "code",
   "execution_count": null,
   "metadata": {},
   "outputs": [],
   "source": [
    "# Filter data berdasarkan tahun\n",
    "year_2011 = day_df[day_df['yr'] == 0]  # Tahun 2011\n",
    "year_2012 = day_df[day_df['yr'] == 1]  # Tahun 2012\n",
    "\n",
    "# Dictionary untuk mapping nama bulan\n",
    "month_name_map = {\n",
    "    1: 'Jan', 2: 'Feb', 3: 'Mar', 4: 'Apr',\n",
    "    5: 'May', 6: 'Jun', 7: 'Jul', 8: 'Aug',\n",
    "    9: 'Sep', 10: 'Oct', 11: 'Nov', 12: 'Dec'\n",
    "}\n",
    "\n",
    "# Fungsi untuk menghasilkan mapping season dan mnth\n",
    "def get_season_month_mapping(data, year_name):\n",
    "    mapping = data.groupby('season')['mnth'].unique().reset_index()\n",
    "    # Ubah angka bulan ke nama bulan\n",
    "    mapping['mnth'] = mapping['mnth'].apply(lambda months: [month_name_map[m] for m in sorted(months)])\n",
    "    mapping['season_name'] = mapping['season'].map({1: 'Spring', 2: 'Summer', 3: 'Fall', 4: 'Winter'})\n",
    "    mapping['year'] = year_name\n",
    "    return mapping\n",
    "\n",
    "# Menghasilkan mapping untuk masing-masing tahun\n",
    "mapping_2011 = get_season_month_mapping(year_2011, '2011')\n",
    "mapping_2012 = get_season_month_mapping(year_2012, '2012')\n",
    "\n",
    "# Menampilkan hasil\n",
    "print(\"Hubungan season dan mnth untuk Tahun 2011:\")\n",
    "print(mapping_2011)\n",
    "\n",
    "print(\"\\nHubungan season dan mnth untuk Tahun 2012:\")\n",
    "print(mapping_2012)\n"
   ]
  },
  {
   "cell_type": "markdown",
   "metadata": {},
   "source": [
    "**Insight**:\n",
    "\n",
    "Dengan menganalisis hubungan antara tahun, bulan dan musim, kita bisa memperoleh informasi pada bulan apa saja musim tertentu yang relevan pada saat dataset dibuat."
   ]
  },
  {
   "cell_type": "markdown",
   "metadata": {
    "id": "zsyZjqak8DC2"
   },
   "source": [
    "## Visualization & Explanatory Analysis"
   ]
  },
  {
   "cell_type": "markdown",
   "metadata": {
    "id": "HZxOiQ6n8DC2"
   },
   "source": [
    "### Pertanyaan 1: Bagaimana tren dalam penggunaan rental sepeda?"
   ]
  },
  {
   "cell_type": "code",
   "execution_count": null,
   "metadata": {
    "id": "1swJUdAD8DC2"
   },
   "outputs": [],
   "source": [
    "# Agregasi data berdasarkan tahun dan bulan\n",
    "month_year_summary = day_df.groupby(['yr', 'mnth'])['cnt'].sum().reset_index()\n",
    "\n",
    "# Mengubah angka bulan menjadi nama bulan untuk interpretasi yang lebih mudah\n",
    "month_year_summary['month_name'] = month_year_summary['mnth'].map({\n",
    "    1: 'Jan', 2: 'Feb', 3: 'Mar', 4: 'Apr', 5: 'May', 6: 'Jun',\n",
    "    7: 'Jul', 8: 'Aug', 9: 'Sep', 10: 'Oct', 11: 'Nov', 12: 'Dec'\n",
    "})\n",
    "\n",
    "# Pisahkan data untuk tahun pertama (2011) dan tahun kedua (2012)\n",
    "year_2011 = month_year_summary[month_year_summary['yr'] == 0]\n",
    "year_2012 = month_year_summary[month_year_summary['yr'] == 1]\n",
    "\n",
    "# Tampilkan tabel hasil agregasi\n",
    "print(\"Tren Penggunaan Sepeda Berdasarkan Bulan untuk Tahun 2011:\")\n",
    "print(year_2011)\n",
    "\n",
    "print(\"\\nTren Penggunaan Sepeda Berdasarkan Bulan untuk Tahun 2012:\")\n",
    "print(year_2012)"
   ]
  },
  {
   "cell_type": "code",
   "execution_count": null,
   "metadata": {},
   "outputs": [],
   "source": [
    "# Visualisasi clustered bar chart\n",
    "plt.figure(figsize=(12, 6))\n",
    "\n",
    "# Plot bar chart untuk tahun 2011 dan 2012\n",
    "sns.barplot(data=month_year_summary, x='month_name', y='cnt', hue='yr', palette='Blues_d')\n",
    "\n",
    "# Judul dan label\n",
    "plt.title('Perbandingan Tren Penggunaan Sepeda Berdasarkan Bulan (2011 vs 2012)', fontsize=14)\n",
    "plt.xlabel('Bulan', fontsize=12)\n",
    "plt.ylabel('Total Penyewaan Sepeda', fontsize=12)\n",
    "\n",
    "# Catatan tambahan\n",
    "plt.figtext(0.5, -0.15, \"Catatan: Tahun 2012 menunjukkan peningkatan permintaan dibandingkan 2011.\", wrap=True, ha=\"center\", fontsize=10)\n",
    "\n",
    "# Menampilkan legenda\n",
    "plt.legend(title='Tahun', loc='upper left', labels=['2011', '2012'])\n",
    "\n",
    "# Menampilkan grafik\n",
    "plt.tight_layout()\n",
    "plt.show()"
   ]
  },
  {
   "cell_type": "markdown",
   "metadata": {},
   "source": [
    "**Insight:**\n",
    "\n",
    "Berdasarkan visualisasi **clustered bar chart** yang membandingkan tren penggunaan rental sepeda antara tahun 2011 dan 2012, terlihat bahwa **tren penggunaan rental sepeda mengalami peningkatan signifikan dari tahun ke tahun**. Total penyewaan sepeda di tahun 2012 lebih tinggi dibandingkan tahun 2011 untuk semua bulan, menunjukkan adanya pertumbuhan popularitas layanan ini. Peningkatan paling mencolok terjadi pada musim panas (Juni-Agustus) dan gugur (September-November), di mana cuaca yang nyaman mendukung aktivitas luar ruangan seperti bersepeda. Meskipun permintaan tetap lebih rendah selama musim dingin (Desember-Februari), tahun 2012 tetap menunjukkan peningkatan dibandingkan 2011, menunjukkan bahwa layanan ini semakin diminati bahkan di kondisi cuaca yang kurang ideal. Secara keseluruhan, visualisasi ini memberikan gambaran bahwa layanan rental sepeda ini memiliki minat tren tinggi yang tidak hanya tumbuh secara musiman tetapi juga secara tahunan, dengan potensi untuk terus berkembang di masa depan."
   ]
  },
  {
   "cell_type": "markdown",
   "metadata": {
    "id": "DgHI7CiU8DC2"
   },
   "source": [
    "### Pertanyaan 2: Apakah ada perbedaan antara hari kerja dan akhir pekan?"
   ]
  },
  {
   "cell_type": "code",
   "execution_count": null,
   "metadata": {
    "id": "Go0lCsvO8DC2"
   },
   "outputs": [],
   "source": [
    "# Agregasi data berdasarkan workingday\n",
    "workingday_summary = day_df.groupby('workingday')[['cnt', 'casual', 'registered']].sum().reset_index()\n",
    "\n",
    "# Tambahkan label untuk interpretasi data\n",
    "workingday_summary['workingday_label'] = workingday_summary['workingday'].map({0: 'Akhir Pekan/Hari Libur', 1: 'Hari Kerja'})\n",
    "\n",
    "# Tampilkan tabel hasil agregasi\n",
    "print(\"Perbandingan Penggunaan Sepeda Antara Hari Kerja dan Akhir Pekan:\\n\")\n",
    "print(workingday_summary)"
   ]
  },
  {
   "cell_type": "code",
   "execution_count": null,
   "metadata": {},
   "outputs": [],
   "source": [
    "# Reshape data agar sesuai untuk clustered bar chart\n",
    "workingday_melted = workingday_summary.melt(\n",
    "    id_vars=['workingday', 'workingday_label'], \n",
    "    value_vars=['casual', 'registered'],\n",
    "    var_name='user_type', \n",
    "    value_name='total_rentals'\n",
    ")\n",
    "\n",
    "# Visualisasi clustered bar chart\n",
    "plt.figure(figsize=(10, 6))\n",
    "\n",
    "# Plot menggunakan seaborn.barplot\n",
    "sns.barplot(data=workingday_melted, x='workingday_label', y='total_rentals', hue='user_type', palette='Blues_d')\n",
    "\n",
    "# Judul dan label\n",
    "plt.title('Perbandingan Penggunaan Sepeda Antara Hari Kerja dan Akhir Pekan', fontsize=14)\n",
    "plt.xlabel('Kategori Hari', fontsize=12)\n",
    "plt.ylabel('Total Penyewaan Sepeda', fontsize=12)\n",
    "\n",
    "# Catatan tambahan\n",
    "plt.figtext(0.5, -0.15, \"Catatan: Hari kerja memiliki permintaan lebih tinggi dibandingkan akhir pekan.\", wrap=True, ha=\"center\", fontsize=10)\n",
    "\n",
    "# Menampilkan legenda\n",
    "plt.legend(title='Jenis Pengguna', loc='upper right')\n",
    "\n",
    "# Menampilkan grafik\n",
    "plt.tight_layout()\n",
    "plt.show()"
   ]
  },
  {
   "cell_type": "markdown",
   "metadata": {},
   "source": [
    "**Insight:**\n",
    "\n",
    "Berdasarkan analisis dan visualisasi, terlihat bahwa **ada perbedaan signifikan dalam penggunaan rental sepeda antara hari kerja dan akhir pekan**. Pada akhir pekan, permintaan lebih rendah secara keseluruhan dengan dominasi pengguna registered yang tertinggi diikuti dengan pengguna casual. Sementara itu pada hari kerja, permintaan cenderung tinggi secara keseluruhan yang terlihat pada pengguna registered yang berkemungkinan menggunakan rental sepeda untuk bekerja disusul oleh pengguna casual yang memiliki permintaan cenderung sama dibanding akhir pekan. Perbedaan ini menunjukkan bahwa layanan rental sepeda memiliki dua segmen pengguna utama: **pengguna rutin (terdaftar)** yang menggunakan sepeda untuk kebutuhan harian dan **pengguna sesekali (biasa)** yang menggunakan sepeda untuk hiburan. Meskipun total penyewaan di akhir pekan lebih rendah dibandingkan hari kerja, layanan ini tetap diminati oleh kedua kelompok pengguna."
   ]
  },
  {
   "cell_type": "markdown",
   "metadata": {},
   "source": [
    "### Pertanyaan 3: Bagaimana cuaca memengaruhi jumlah penyewaan sepeda?"
   ]
  },
  {
   "cell_type": "code",
   "execution_count": null,
   "metadata": {},
   "outputs": [],
   "source": [
    "# Agregasi data berdasarkan weathersit\n",
    "weather_summary = day_df.groupby('weathersit')[['casual', 'registered']].sum().reset_index()\n",
    "\n",
    "# Pastikan semua kategori cuaca (1, 2, 3, 4) ada dalam data\n",
    "all_weather_categories = [1, 2, 3, 4]\n",
    "weather_summary = weather_summary.set_index('weathersit').reindex(all_weather_categories, fill_value=0).reset_index()\n",
    "\n",
    "# Tambahkan label untuk interpretasi data\n",
    "weather_summary['weather_label'] = weather_summary['weathersit'].map({\n",
    "    1: 'Cerah/Jelas',\n",
    "    2: 'Berkabut/Berawan',\n",
    "    3: 'Hujan Ringan/Salju',\n",
    "    4: 'Cuaca Buruk'\n",
    "})\n",
    "\n",
    "# Tampilkan tabel hasil agregasi\n",
    "print(\"Pengaruh Cuaca terhadap Jumlah Penyewaan Sepeda:\")\n",
    "print(weather_summary)"
   ]
  },
  {
   "cell_type": "code",
   "execution_count": null,
   "metadata": {},
   "outputs": [],
   "source": [
    "# Reshape data agar sesuai untuk clustered bar chart\n",
    "weather_melted = weather_summary.melt(\n",
    "    id_vars=['weathersit', 'weather_label'], \n",
    "    value_vars=['casual', 'registered'],\n",
    "    var_name='user_type', \n",
    "    value_name='total_rentals'\n",
    ")\n",
    "\n",
    "# Visualisasi clustered bar chart\n",
    "plt.figure(figsize=(10, 6))\n",
    "\n",
    "# Plot menggunakan seaborn.barplot\n",
    "sns.barplot(data=weather_melted, x='weather_label', y='total_rentals', hue='user_type', palette='Blues_d')\n",
    "\n",
    "# Judul dan label\n",
    "plt.title('Pengaruh Cuaca terhadap Jumlah Penyewaan Sepeda', fontsize=14)\n",
    "plt.xlabel('Kondisi Cuaca', fontsize=12)\n",
    "plt.ylabel('Total Penyewaan Sepeda', fontsize=12)\n",
    "\n",
    "# Catatan tambahan\n",
    "plt.figtext(0.5, -0.15, \"Catatan: Cuaca buruk mengurangi permintaan rental sepeda.\", wrap=True, ha=\"center\", fontsize=10)\n",
    "\n",
    "# Menampilkan legenda\n",
    "plt.legend(title='Jenis Pengguna', loc='upper right')\n",
    "\n",
    "# Menampilkan grafik\n",
    "plt.tight_layout()\n",
    "plt.show()"
   ]
  },
  {
   "cell_type": "markdown",
   "metadata": {},
   "source": [
    "**Insight:**\n",
    "\n",
    "Berdasarkan analisis dan visualisasi, terlihat bahwa **cuaca memiliki pengaruh besar terhadap jumlah penyewaan sepeda, baik dari pengguna registered maupun casual.** Pada kondisi cuaca cerah atau jelas, permintaan penyewaan sepeda mencapai titik tertinggi, dengan dominasi baik dari pengguna terdaftar dibanding pengguna casual. Namun, saat cuaca memburuk (berawan, hujan ringan, atau cuaca buruk), permintaan turun secara signifikan. Cuaca buruk seperti hujan deras atau badai hampir sepenuhnya menghentikan aktivitas bersepeda, dengan jumlah penyewaan yang sangat rendah. Hal ini menunjukkan bahwa layanan rental sepeda sangat bergantung pada kondisi cuaca, dan harus mempertimbangkan faktor cuaca untuk memaksimalkan efektivitas layanan."
   ]
  },
  {
   "cell_type": "markdown",
   "metadata": {},
   "source": [
    "### Pertanyaan 4: Berapa persentase kontribusi pengguna kasual dibandingkan dengan pengguna terdaftar?"
   ]
  },
  {
   "cell_type": "code",
   "execution_count": null,
   "metadata": {},
   "outputs": [],
   "source": [
    "# Hitung total penyewaan untuk casual, registered, dan cnt\n",
    "total_casual = day_df['casual'].sum()\n",
    "total_registered = day_df['registered'].sum()\n",
    "total_cnt = day_df['cnt'].sum()\n",
    "\n",
    "# Hitung persentase kontribusi\n",
    "percentage_casual = (total_casual / total_cnt) * 100\n",
    "percentage_registered = (total_registered / total_cnt) * 100\n",
    "\n",
    "# Tampilkan hasil\n",
    "print(\"Total Penyewaan Sepeda:\")\n",
    "print(f\"- Pengguna Kasual: {total_casual}\")\n",
    "print(f\"- Pengguna Terdaftar: {total_registered}\")\n",
    "print(f\"- Total Keseluruhan: {total_cnt}\")\n",
    "\n",
    "print(\"\\nPersentase Kontribusi:\")\n",
    "print(f\"- Pengguna Kasual: {percentage_casual:.2f}%\")\n",
    "print(f\"- Pengguna Terdaftar: {percentage_registered:.2f}%\")"
   ]
  },
  {
   "cell_type": "code",
   "execution_count": null,
   "metadata": {},
   "outputs": [],
   "source": [
    "# Data untuk pie chart\n",
    "labels = ['Pengguna Kasual', 'Pengguna Terdaftar']\n",
    "sizes = [percentage_casual, percentage_registered]\n",
    "colors = ['#ff9999', '#66b3ff']  # Warna untuk kasual dan terdaftar\n",
    "explode = (0.1, 0)  # Meledakkan bagian \"kasual\" untuk menonjolkan\n",
    "\n",
    "# Visualisasi pie chart\n",
    "plt.figure(figsize=(8, 6))\n",
    "plt.pie(sizes, explode=explode, labels=labels, colors=colors, autopct='%1.1f%%', startangle=90)\n",
    "\n",
    "# Judul dan tata letak\n",
    "plt.title('Persentase Kontribusi Pengguna Kasual vs Terdaftar', fontsize=14)\n",
    "plt.axis('equal')  # Memastikan pie chart berbentuk lingkaran sempurna\n",
    "\n",
    "# Menampilkan grafik\n",
    "plt.tight_layout()\n",
    "plt.show()"
   ]
  },
  {
   "cell_type": "markdown",
   "metadata": {},
   "source": [
    "**Insight:**\n",
    "\n",
    "Terlihat dari hasil visualisasi pengguna registered menyumbang sekitar 80% yang melakukan rental sepeda dan pengguna casual menyumbang sekitar 20% yang dimana ini menunjukkan bahwa pengguna registered adalah pelanggan utama dari rental sepeda ini dan pengguna kasual meskipun sedikit dibandingkan pengguna registered tetap memberikan kontribusi penting terutama di akhir pekan atau musim tertentu."
   ]
  },
  {
   "cell_type": "code",
   "execution_count": null,
   "metadata": {},
   "outputs": [],
   "source": [
    "#day_df.to_csv(\"main_data.csv\", index=False)"
   ]
  }
 ],
 "metadata": {
  "colab": {
   "provenance": []
  },
  "kernelspec": {
   "display_name": ".venv",
   "language": "python",
   "name": "python3"
  },
  "language_info": {
   "codemirror_mode": {
    "name": "ipython",
    "version": 3
   },
   "file_extension": ".py",
   "mimetype": "text/x-python",
   "name": "python",
   "nbconvert_exporter": "python",
   "pygments_lexer": "ipython3",
   "version": "3.13.2"
  }
 },
 "nbformat": 4,
 "nbformat_minor": 4
}
